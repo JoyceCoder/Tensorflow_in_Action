{
 "cells": [
  {
   "cell_type": "code",
   "execution_count": 1,
   "metadata": {},
   "outputs": [],
   "source": [
    "# 变量用来存储和更新参数，变量包含张量存放于内存的缓冲区。\n",
    "# 建模时需要被明确地初始化，训练后必须被存储在磁盘。这些变量的值可在之后模型训练和分析时被加载"
   ]
  },
  {
   "cell_type": "code",
   "execution_count": 2,
   "metadata": {},
   "outputs": [],
   "source": [
    "# 创建变量，即将张量作为初始化值传入构造函数（变量、常量、序列、随机数）\n",
    "# http://www.tensorfly.cn/tfdoc/api_docs/python/constant_op.html\n",
    "# 变量需要指定shape\n",
    "import tensorflow as tf"
   ]
  },
  {
   "cell_type": "code",
   "execution_count": 4,
   "metadata": {},
   "outputs": [],
   "source": [
    "# 该操作返回一个Variable的实例\n",
    "weights = tf.Variable(tf.random_normal([784, 200], stddev=0.35), name=\"weights\")\n",
    "biases = tf.Variable(tf.zeros([200]), name=\"biases\")"
   ]
  },
  {
   "cell_type": "code",
   "execution_count": 7,
   "metadata": {},
   "outputs": [],
   "source": [
    "# 初始化 需要在完全构建好模型并加载之后再运行那个操作\n",
    "init_op = tf.global_variables_initializer()\n",
    "\n",
    "with tf.Session() as sess:\n",
    "    sess.run(init_op)"
   ]
  },
  {
   "cell_type": "code",
   "execution_count": 11,
   "metadata": {},
   "outputs": [],
   "source": [
    "# 上面的初始化是一个并行的操作，如果需要由另一个变量初始化\n",
    "# 使用属性initialized_value直接将值作为新变量的初始值\n",
    "w2 = tf.Variable(weights.initialized_value(), name=\"w2\")\n",
    "# 可以当做tensor计算得到一个值赋予新变量\n",
    "w_twice = tf.Variable(weights.initialized_value()*0.2, name=\"w_twice\")"
   ]
  },
  {
   "cell_type": "code",
   "execution_count": 14,
   "metadata": {},
   "outputs": [
    {
     "name": "stdout",
     "output_type": "stream",
     "text": [
      "model saved in file: ./tmp/model.ckpt\n"
     ]
    }
   ],
   "source": [
    "# 保存和加载 tf.train.Saver\n",
    "# 保存变量，使用Saver创建实例来管理模型中的所有变量\n",
    "\n",
    "saver = tf.train.Saver()\n",
    "init_op = tf.global_variables_initializer()\n",
    "\n",
    "with tf.Session() as sess:\n",
    "    sess.run(init_op)\n",
    "    save_path = saver.save(sess,\"./tmp/model.ckpt\")\n",
    "    print(\"model saved in file:\",save_path)"
   ]
  },
  {
   "cell_type": "code",
   "execution_count": 15,
   "metadata": {},
   "outputs": [
    {
     "name": "stdout",
     "output_type": "stream",
     "text": [
      "WARNING:tensorflow:From C:\\software\\Anaconda3\\lib\\site-packages\\tensorflow\\python\\training\\saver.py:1266: checkpoint_exists (from tensorflow.python.training.checkpoint_management) is deprecated and will be removed in a future version.\n",
      "Instructions for updating:\n",
      "Use standard file APIs to check for files with this prefix.\n",
      "INFO:tensorflow:Restoring parameters from ./tmp/model.ckpt\n",
      "model restored\n"
     ]
    }
   ],
   "source": [
    "# 恢复变量\n",
    "# 需要用同一个Saver对象来恢复变量，从文件恢复变量时，不需要事先对他们做初始化\n",
    "saver = tf.train.Saver()\n",
    "\n",
    "with tf.Session() as sess:\n",
    "    saver.restore(sess,\"./tmp/model.ckpt\")\n",
    "    print(\"model restored\")\n"
   ]
  },
  {
   "cell_type": "code",
   "execution_count": null,
   "metadata": {},
   "outputs": [],
   "source": []
  }
 ],
 "metadata": {
  "kernelspec": {
   "display_name": "Python 3",
   "language": "python",
   "name": "python3"
  },
  "language_info": {
   "codemirror_mode": {
    "name": "ipython",
    "version": 3
   },
   "file_extension": ".py",
   "mimetype": "text/x-python",
   "name": "python",
   "nbconvert_exporter": "python",
   "pygments_lexer": "ipython3",
   "version": "3.7.1"
  }
 },
 "nbformat": 4,
 "nbformat_minor": 2
}
