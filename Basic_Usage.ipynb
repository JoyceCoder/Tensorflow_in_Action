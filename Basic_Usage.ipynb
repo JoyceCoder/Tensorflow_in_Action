{
 "cells": [
  {
   "cell_type": "code",
   "execution_count": 1,
   "metadata": {},
   "outputs": [],
   "source": [
    "# 图在会话中被启动，会话将图的操作分发到CPU或者GPU设备上，同时提供执行操作的方法。\n",
    "# 这些方法执行后，将产生的张量返回。\n",
    "# http://www.tensorfly.cn/tfdoc/get_started/basic_usage.html"
   ]
  },
  {
   "cell_type": "code",
   "execution_count": 2,
   "metadata": {},
   "outputs": [],
   "source": [
    "# 构建图\n",
    "# 构建图的第一步是创建源op，不需要任何的输入，其输出被传递给其他op做运算。\n",
    "import tensorflow as tf\n",
    "\n",
    "# 创建常量，一个1*2的矩阵\n",
    "matrix1 = tf.constant([[3.,3.]]) \n",
    "# 创建一个2*1的矩阵\n",
    "matrix2 = tf.constant([[2.],[2.]])\n",
    "\n",
    "# 创建op\n",
    "product = tf.matmul(matrix1, matrix2)"
   ]
  },
  {
   "cell_type": "code",
   "execution_count": 4,
   "metadata": {},
   "outputs": [
    {
     "name": "stdout",
     "output_type": "stream",
     "text": [
      "[[12.]]\n"
     ]
    }
   ],
   "source": [
    "# 想要运行，必须在会话中启动这个默认图\n",
    "\n",
    "# 启动图的第一步是创建一个session对象\n",
    "sess = tf.Session()\n",
    "\n",
    "# 调用run方法，并将创建的op作为该方法的参数，即表明，希望取回该乘法op的输出\n",
    "result = sess.run(product)\n",
    "print(result)\n"
   ]
  },
  {
   "cell_type": "code",
   "execution_count": 5,
   "metadata": {},
   "outputs": [],
   "source": [
    "sess.close()"
   ]
  },
  {
   "cell_type": "code",
   "execution_count": 7,
   "metadata": {},
   "outputs": [
    {
     "name": "stdout",
     "output_type": "stream",
     "text": [
      "[array([[12.]], dtype=float32)]\n"
     ]
    }
   ],
   "source": [
    "# 除以上显示关闭会话释放资源，也可以使用with代码块，自动完成关闭动作\n",
    "with tf.Session() as sess:\n",
    "    result = sess.run([product])\n",
    "    print(result)"
   ]
  },
  {
   "cell_type": "code",
   "execution_count": 19,
   "metadata": {},
   "outputs": [],
   "source": [
    "# 指定GPU，除机器第一个GPU，其他默认不参与计算。\n",
    "# 确保你的机器有可用的GPU设备\n",
    "with tf.Session() as sess:\n",
    "    with tf.device(\"/gpu:0\"):\n",
    "        matrix4 = tf.constant([[3.,3.]]) \n",
    "        matrix5 = tf.constant([[2.],[2.]])\n",
    "        product = tf.add(matrix4, matrix5)\n",
    "        #result = sess.run([product])\n",
    "        #print(result)\n",
    "        \n",
    "# 由于常量创建时在CPU1上，明确指定设备为CPU1.故再次运行时会提示错误。      "
   ]
  },
  {
   "cell_type": "code",
   "execution_count": 24,
   "metadata": {},
   "outputs": [
    {
     "name": "stdout",
     "output_type": "stream",
     "text": [
      "[-2. -1.]\n"
     ]
    }
   ],
   "source": [
    "# 交互式tf会话，主要用于python交互环境。\n",
    "# 使用InteractiveSession代替Session类\n",
    "sess = tf.InteractiveSession()\n",
    "\n",
    "x = tf.Variable([1., 2.])\n",
    "a = tf.constant([3., 3.])\n",
    "#使用初始化器的run方法初始化x\n",
    "x.initializer.run()\n",
    "\n",
    "sub = tf.math.subtract(x, a)\n",
    "print(sub.eval())\n",
    "\n",
    "\n"
   ]
  },
  {
   "cell_type": "code",
   "execution_count": 28,
   "metadata": {},
   "outputs": [
    {
     "name": "stdout",
     "output_type": "stream",
     "text": [
      "0\n",
      "1\n",
      "2\n",
      "3\n"
     ]
    }
   ],
   "source": [
    "# 变量 用于维护图中执行过程中的状态信息。\n",
    "state = tf.Variable(0, name=\"counter\")\n",
    "\n",
    "one = tf.constant(1)\n",
    "new_value = tf.math.add(state, one)\n",
    "update = tf.assign(state, new_value)\n",
    "\n",
    "# 启动图后，变量必须初始化\n",
    "init_op = tf.global_variables_initializer()\n",
    "\n",
    "with tf.Session(config=tf.ConfigProto(allow_soft_placement=True, log_device_placement=True)) as sess:\n",
    "    sess.run(init_op)\n",
    "    print(sess.run(state))\n",
    "    \n",
    "    for _ in range(3):\n",
    "        sess.run(update)\n",
    "        print(sess.run(state))"
   ]
  },
  {
   "cell_type": "code",
   "execution_count": 30,
   "metadata": {},
   "outputs": [
    {
     "name": "stdout",
     "output_type": "stream",
     "text": [
      "[21.0, 7.0]\n"
     ]
    }
   ],
   "source": [
    "# 取回操作的输出内容，除之前取回单个节点，例如state，也可以取回多个tensor\n",
    "input1 = tf.constant(3.)\n",
    "input2 = tf.constant(2.)\n",
    "input3 = tf.constant(5.)\n",
    "\n",
    "intermed = tf.math.add(input2, input3)\n",
    "mul = tf.math.multiply(input1, intermed)\n",
    "\n",
    "with tf.Session(config=tf.ConfigProto(allow_soft_placement=True, log_device_placement=True)) as sess:\n",
    "    result = sess.run([mul, intermed])\n",
    "    print(result)"
   ]
  },
  {
   "cell_type": "code",
   "execution_count": 36,
   "metadata": {},
   "outputs": [
    {
     "name": "stdout",
     "output_type": "stream",
     "text": [
      "[array([14.], dtype=float32)]\n"
     ]
    }
   ],
   "source": [
    "# feed操作：可以临时替代图中的任意操作中的tensor可以对图中任何操作提交补丁，直接插入一个tensor。\n",
    "input1 = tf.placeholder(tf.float32)\n",
    "input2 = tf.placeholder(tf.float32)\n",
    "output = tf.math.multiply(input1, input2)\n",
    "\n",
    "with tf.Session(config=tf.ConfigProto(allow_soft_placement=True, log_device_placement=True)) as sess:\n",
    "    print(sess.run([output], feed_dict={input1: [7.], input2: [2.]}))"
   ]
  },
  {
   "cell_type": "code",
   "execution_count": null,
   "metadata": {},
   "outputs": [],
   "source": []
  }
 ],
 "metadata": {
  "kernelspec": {
   "display_name": "Python 3",
   "language": "python",
   "name": "python3"
  },
  "language_info": {
   "codemirror_mode": {
    "name": "ipython",
    "version": 3
   },
   "file_extension": ".py",
   "mimetype": "text/x-python",
   "name": "python",
   "nbconvert_exporter": "python",
   "pygments_lexer": "ipython3",
   "version": "3.7.1"
  }
 },
 "nbformat": 4,
 "nbformat_minor": 2
}
