{
 "cells": [
  {
   "cell_type": "code",
   "execution_count": 1,
   "metadata": {},
   "outputs": [],
   "source": [
    "from __future__ import absolute_import\n",
    "from __future__ import division\n",
    "from __future__ import print_function\n",
    "\n",
    "import numpy as np\n",
    "import tensorflow as tf"
   ]
  },
  {
   "cell_type": "code",
   "execution_count": 2,
   "metadata": {},
   "outputs": [],
   "source": [
    "# 张量。tf中使用numpy来表示张量值！\n",
    "# tensorflow core 低阶API\n",
    "# 主要分为两个互相独立的部分组成：\n",
    "# - 构建计算图（tf.Graph）\n",
    "# - 运行计算图（tf.Session）"
   ]
  },
  {
   "cell_type": "code",
   "execution_count": 3,
   "metadata": {},
   "outputs": [
    {
     "name": "stdout",
     "output_type": "stream",
     "text": [
      "Tensor(\"Const:0\", shape=(), dtype=float32)\n",
      "Tensor(\"Const_1:0\", shape=(), dtype=float32)\n",
      "Tensor(\"add:0\", shape=(), dtype=float32)\n"
     ]
    }
   ],
   "source": [
    "a = tf.constant(3.0,dtype = tf.float32)\n",
    "b = tf.constant(4.0)# 不用显示指明张量类型\n",
    "total = a+b\n",
    "\n",
    "print(a)\n",
    "print(b)\n",
    "print(total)"
   ]
  },
  {
   "cell_type": "code",
   "execution_count": 4,
   "metadata": {},
   "outputs": [],
   "source": [
    "# 这里可以看到输出值并不是3.0,4.0,7.0。\n",
    "# 上述语句构建计算图，tf.tensor仅代表将要运行的操作的结果\n",
    "# 图中指令都有唯一名词，张量是根据生成他们的指令命名，后面跟着输出索引。"
   ]
  },
  {
   "cell_type": "code",
   "execution_count": 5,
   "metadata": {},
   "outputs": [],
   "source": [
    "# tensorboard\n",
    "# 将计算图保存为tensorboard的摘要文件\n",
    "writer = tf.summary.FileWriter('.')\n",
    "writer.add_graph(tf.get_default_graph())"
   ]
  },
  {
   "cell_type": "code",
   "execution_count": null,
   "metadata": {},
   "outputs": [],
   "source": [
    "# 这将在当前目录中生成一个 event 文件，其名称格式如下：\n",
    "# events.out.tfevents.{timestamp}.{hostname}\n",
    "! tensorboard --logdir .\n",
    "#http://localhost:6006/#graphs&run=."
   ]
  },
  {
   "cell_type": "code",
   "execution_count": 9,
   "metadata": {},
   "outputs": [
    {
     "name": "stdout",
     "output_type": "stream",
     "text": [
      "7.0\n"
     ]
    }
   ],
   "source": [
    "# 会话\n",
    "# 评估张量，需要实例化tf.session对象。会话会封装tf运行时的状态，并运行tf的操作。\n",
    "# tf.graph比作一个py文件，tf.session比作一个python可执行对象。\n",
    "sess = tf.Session()\n",
    "print(sess.run(total))"
   ]
  },
  {
   "cell_type": "code",
   "execution_count": 10,
   "metadata": {},
   "outputs": [
    {
     "name": "stdout",
     "output_type": "stream",
     "text": [
      "{'ab': (3.0, 4.0), 'total': 7.0}\n"
     ]
    }
   ],
   "source": [
    "# 传递多个张量，并以透明方式处理元组或字典的任何组合。\n",
    "print(sess.run({'ab':(a,b),'total':total}))"
   ]
  },
  {
   "cell_type": "code",
   "execution_count": 13,
   "metadata": {},
   "outputs": [
    {
     "name": "stdout",
     "output_type": "stream",
     "text": [
      "[0.70143473 0.580384   0.7526375 ]\n",
      "[0.47295773 0.4392314  0.2897011 ]\n",
      "(array([1.9578346, 1.5962874, 1.9934797], dtype=float32), array([2.9578347, 2.5962873, 2.9934797], dtype=float32))\n"
     ]
    }
   ],
   "source": [
    "# 在调用 tf.Session.run 期间，任何 tf.Tensor 都只有单个值\n",
    "# 每次调用vec，返回不同值，但同一run，vec值相同。\n",
    "vec = tf.random_uniform(shape=(3,))\n",
    "out1 = vec + 1\n",
    "out2 = vec + 2\n",
    "print(sess.run(vec))\n",
    "print(sess.run(vec))\n",
    "print(sess.run((out1, out2)))"
   ]
  },
  {
   "cell_type": "code",
   "execution_count": 14,
   "metadata": {},
   "outputs": [],
   "source": [
    "# 供给\n",
    "# 常量自定义，变量需要初始化，但有的时候我们需要设置参数方便接收外部输入。\n",
    "# 占位符。即承诺稍后提供值，先占个位子。类似函数参数\n",
    "x = tf.placeholder(tf.float32)\n",
    "y = tf.placeholder(tf.float32)\n",
    "z = x + y"
   ]
  },
  {
   "cell_type": "code",
   "execution_count": 15,
   "metadata": {},
   "outputs": [
    {
     "name": "stdout",
     "output_type": "stream",
     "text": [
      "7.5\n",
      "[3. 8.]\n"
     ]
    }
   ],
   "source": [
    "# run方法中的feed_dict函数用来以字典的形式填入参数\n",
    "print(sess.run(z,feed_dict={x:3,y:4.5}))\n",
    "print(sess.run(z,feed_dict={x:[1,3],y:[2,5]}))"
   ]
  },
  {
   "cell_type": "code",
   "execution_count": 16,
   "metadata": {},
   "outputs": [],
   "source": [
    "# 创建数据集迭代器\n",
    "my_Data = [\n",
    "    [0,1],\n",
    "    [2,3],\n",
    "    [4,5],\n",
    "    [6,7],\n",
    "]\n",
    "slices = tf.data.Dataset.from_tensor_slices(my_Data)\n",
    "next_item = slices.make_one_shot_iterator().get_next()"
   ]
  },
  {
   "cell_type": "code",
   "execution_count": 17,
   "metadata": {},
   "outputs": [
    {
     "name": "stdout",
     "output_type": "stream",
     "text": [
      "[0 1]\n",
      "[2 3]\n",
      "[4 5]\n",
      "[6 7]\n"
     ]
    }
   ],
   "source": [
    "while True:\n",
    "    try:\n",
    "        print(sess.run(next_item))\n",
    "    except tf.errors.OutOfRangeError:\n",
    "        break"
   ]
  },
  {
   "cell_type": "code",
   "execution_count": 28,
   "metadata": {},
   "outputs": [
    {
     "name": "stdout",
     "output_type": "stream",
     "text": [
      "[-1.2907134  -0.627311    0.43869826]\n",
      "[-2.2644894 -1.1150272 -2.147645 ]\n",
      "[-1.861257   -0.5105497  -0.37195173]\n",
      "[-0.91531116  1.2565628   0.9942749 ]\n",
      "[ 0.01453245 -1.3357207   0.87064946]\n",
      "[-0.6016345   0.82184863 -1.3833783 ]\n",
      "[ 0.06143059 -0.08581635  1.2042434 ]\n",
      "[-2.0214412   0.7412764   0.42179057]\n",
      "[-1.0324953   0.23998797  0.04892275]\n",
      "[-0.06483631  0.83192784  0.6084466 ]\n"
     ]
    }
   ],
   "source": [
    "# 如何dataset依赖于有状态操作，需要在使用迭代器前初始化。\n",
    "# 到达数据流末端时，Dataset 会抛出 OutOfRangeError\n",
    "r = tf.random_normal([10,3])\n",
    "\n",
    "dataset = tf.data.Dataset.from_tensor_slices(r)#sess.run(r))\n",
    "iterator = dataset.make_initializable_iterator()\n",
    "next_row = iterator.get_next()\n",
    "\n",
    "sess.run(iterator.initializer)\n",
    "\n",
    "while True:\n",
    "    try:\n",
    "        print(sess.run(next_row))\n",
    "    except tf.errors.OutOfRangeError:\n",
    "        #print(\"error\")\n",
    "        break"
   ]
  },
  {
   "cell_type": "code",
   "execution_count": 29,
   "metadata": {},
   "outputs": [],
   "source": [
    "# 层layer\n",
    "# 可训练的模型必须修改图中的值，以便在输入相同值的情况下获得新的输出值。\n",
    "# 将可训练参数添加到图中的首选方法是层。层将变量和操作打包\n",
    "\n",
    "#创建层\n",
    "x = tf.placeholder(tf.float32,shape=[None, 3])\n",
    "linear_model = tf.layers.Dense(units=1)\n",
    "y = linear_model(x)\n",
    "# 给定占位符的形状，层会检查输入数据，确定内部变量大小。"
   ]
  },
  {
   "cell_type": "code",
   "execution_count": 30,
   "metadata": {},
   "outputs": [],
   "source": [
    "# 初始化层，层包含的变量必须先初始化\n",
    "# 初始化应在构建图表的最后一步添加初始化程序\n",
    "init = tf.global_variables_initializer()\n",
    "sess.run(init)"
   ]
  },
  {
   "cell_type": "code",
   "execution_count": 31,
   "metadata": {},
   "outputs": [
    {
     "name": "stdout",
     "output_type": "stream",
     "text": [
      "[[-2.0377107]\n",
      " [-6.8450813]]\n"
     ]
    }
   ],
   "source": [
    "# 执行层\n",
    "print(sess.run(y,{x:[[1,2,3],[4,5,6]]}))"
   ]
  },
  {
   "cell_type": "code",
   "execution_count": 38,
   "metadata": {},
   "outputs": [],
   "source": [
    "sess.close()"
   ]
  },
  {
   "cell_type": "code",
   "execution_count": 36,
   "metadata": {},
   "outputs": [],
   "source": [
    "# 训练\n",
    "# 定义数据\n",
    "x = tf.constant([[1],[2],[3],[4]],dtype=tf.float32)\n",
    "y_true = tf.constant([[0],[-1],[-2],[-3]],dtype=tf.float32)"
   ]
  },
  {
   "cell_type": "code",
   "execution_count": 37,
   "metadata": {},
   "outputs": [],
   "source": [
    "# 定义模型\n",
    "linear_model = tf.layers.Dense(units=1)\n",
    "y = linear_model(x)"
   ]
  },
  {
   "cell_type": "code",
   "execution_count": 39,
   "metadata": {},
   "outputs": [
    {
     "name": "stdout",
     "output_type": "stream",
     "text": [
      "[[1.3660356]\n",
      " [2.7320712]\n",
      " [4.098107 ]\n",
      " [5.4641423]]\n"
     ]
    }
   ],
   "source": [
    "# 评估预测值\n",
    "sess = tf.Session()\n",
    "init = tf.global_variables_initializer()\n",
    "sess.run(init)\n",
    "\n",
    "print(sess.run(y))"
   ]
  },
  {
   "cell_type": "code",
   "execution_count": 40,
   "metadata": {},
   "outputs": [
    {
     "name": "stdout",
     "output_type": "stream",
     "text": [
      "31.155754\n"
     ]
    }
   ],
   "source": [
    "# 优化模型，就要定义损失。tf.losses\n",
    "loss = tf.losses.mean_squared_error(labels =y_true,predictions=y)\n",
    "print(sess.run(loss))"
   ]
  },
  {
   "cell_type": "code",
   "execution_count": 41,
   "metadata": {},
   "outputs": [],
   "source": [
    "# 训练，定义优化器使损失最小化。tf.train.Optimizer\n",
    "optimizer = tf.train.GradientDescentOptimizer(0.01)\n",
    "train = optimizer.minimize(loss)"
   ]
  },
  {
   "cell_type": "code",
   "execution_count": 42,
   "metadata": {
    "collapsed": true
   },
   "outputs": [
    {
     "name": "stdout",
     "output_type": "stream",
     "text": [
      "31.155754\n",
      "21.749487\n",
      "15.221891\n",
      "10.6917515\n",
      "7.5476084\n",
      "5.365184\n",
      "3.85008\n",
      "2.7980201\n",
      "2.0672615\n",
      "1.5594518\n",
      "1.2063458\n",
      "0.96059\n",
      "0.78932655\n",
      "0.6697564\n",
      "0.5860595\n",
      "0.52725863\n",
      "0.4857367\n",
      "0.45620883\n",
      "0.4350075\n",
      "0.41958818\n",
      "0.4081851\n",
      "0.3995729\n",
      "0.39290157\n",
      "0.38758093\n",
      "0.38320187\n",
      "0.37948006\n",
      "0.3762185\n",
      "0.37328026\n",
      "0.37057057\n",
      "0.36802334\n",
      "0.36559284\n",
      "0.36324736\n",
      "0.36096475\n",
      "0.35872972\n",
      "0.3565316\n",
      "0.3543629\n",
      "0.35221857\n",
      "0.35009488\n",
      "0.34798938\n",
      "0.34590018\n",
      "0.3438262\n",
      "0.34176636\n",
      "0.3397201\n",
      "0.33768696\n",
      "0.33566666\n",
      "0.3336588\n",
      "0.33166325\n",
      "0.32967982\n",
      "0.32770836\n",
      "0.3257488\n",
      "0.32380104\n",
      "0.321865\n",
      "0.31994054\n",
      "0.31802762\n",
      "0.31612617\n",
      "0.3142361\n",
      "0.3123573\n",
      "0.31048974\n",
      "0.30863333\n",
      "0.30678812\n",
      "0.30495384\n",
      "0.30313057\n",
      "0.30131823\n",
      "0.29951665\n",
      "0.2977259\n",
      "0.29594588\n",
      "0.2941764\n",
      "0.2924176\n",
      "0.29066932\n",
      "0.28893137\n",
      "0.2872039\n",
      "0.28548673\n",
      "0.28377986\n",
      "0.2820832\n",
      "0.28039667\n",
      "0.27872023\n",
      "0.2770538\n",
      "0.27539736\n",
      "0.2737508\n",
      "0.27211404\n",
      "0.27048713\n",
      "0.2688699\n",
      "0.26726243\n",
      "0.2656645\n",
      "0.26407614\n",
      "0.26249728\n",
      "0.26092786\n",
      "0.25936776\n",
      "0.2578171\n",
      "0.25627562\n",
      "0.25474337\n",
      "0.25322032\n",
      "0.25170633\n",
      "0.2502014\n",
      "0.2487055\n",
      "0.24721858\n",
      "0.24574049\n",
      "0.24427125\n",
      "0.24281076\n",
      "0.24135901\n"
     ]
    }
   ],
   "source": [
    "for i in range(100):\n",
    "    _, loss_value = sess.run((train, loss))\n",
    "    print(loss_value)"
   ]
  },
  {
   "cell_type": "code",
   "execution_count": 43,
   "metadata": {},
   "outputs": [
    {
     "name": "stdout",
     "output_type": "stream",
     "text": [
      "[[-0.79089534]\n",
      " [-1.383243  ]\n",
      " [-1.9755905 ]\n",
      " [-2.567938  ]]\n"
     ]
    }
   ],
   "source": [
    "# 由于train是一直指令，而loss是一个张量，我们同时运行，以实时查看损失\n",
    "print(sess.run(y))"
   ]
  },
  {
   "cell_type": "code",
   "execution_count": null,
   "metadata": {},
   "outputs": [],
   "source": []
  }
 ],
 "metadata": {
  "kernelspec": {
   "display_name": "Python 3",
   "language": "python",
   "name": "python3"
  },
  "language_info": {
   "codemirror_mode": {
    "name": "ipython",
    "version": 3
   },
   "file_extension": ".py",
   "mimetype": "text/x-python",
   "name": "python",
   "nbconvert_exporter": "python",
   "pygments_lexer": "ipython3",
   "version": "3.7.1"
  }
 },
 "nbformat": 4,
 "nbformat_minor": 2
}
